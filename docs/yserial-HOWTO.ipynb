{
 "metadata": {
  "name": "",
  "signature": "sha256:92c20fa3aeabe861410f16a2901537fe5b8e7d9a1e686cb2561beea596cdf454"
 },
 "nbformat": 3,
 "nbformat_minor": 0,
 "worksheets": [
  {
   "cells": [
    {
     "cell_type": "heading",
     "level": 1,
     "metadata": {},
     "source": [
      "yserial HOWTO Tutorial"
     ]
    },
    {
     "cell_type": "markdown",
     "metadata": {},
     "source": [
      "A brief technical overview to yserial was given in https://github.com/rsvp/yserial (*\"repo\"*) which was suitable for developers, so here we give an introduction to the simplicity of the NoSQL interface from the user's perspective.\n",
      "\n",
      "## So what is yserial?\n",
      "\n",
      "Well, **yserial = serialization + persistance**, which means objects get compressed and then inserted into some database. Each object gets assigned a key, and we can retrieve objects by specifying some part of the key(s). Storage can occur off-line or in memory. Using a single-file Python module, the user need not bother with the intricate internal language of the database, efficient commands are provided and demonstrated below.\n",
      "\n",
      "*What objects?*  We generally mean Python objects, but we include support for files (binary, image, etc.) and URL content (e.g. webpages). ***Python objects are strings, dictionaries, lists, tuples, classes, and instances.***\n",
      "\n",
      "**Our goal is to have the simplest possible user interface in the foreground, yet have near optimal computing in the background.** \n",
      "\n",
      "\"y_serial provides Python with a module that eases the general purpose \n",
      "and prototyping use case by getting all the database layer clutter \n",
      "and SQL out the way (although still accessible if needed). \n",
      "It allows the developer to *preserve application state \n",
      "with just a few calls and can also extend to maintaining \n",
      "complex information.* Shifting data can be warehoused and dealt with \n",
      "when developer/application time permits, or development can proceed \n",
      "straight into using y_serial as a *persistent stack/heap.* \n",
      "The benefits become especially apparent when a *platform-independent \n",
      "database handling state transitions* is needed.\" -- @venzen"
     ]
    },
    {
     "cell_type": "markdown",
     "metadata": {},
     "source": [
      "*CHANGE LOG*\n",
      "\n",
      "    2015-04-22  Use IPython notebook to revise documentation within v0.70.0, \n",
      "                deprecating Sphinx pages at http://yserial.sourceforge.net/"
     ]
    },
    {
     "cell_type": "markdown",
     "metadata": {},
     "source": [
      "## Let's get started\n",
      "\n",
      "**In about *ten minutes*, you should be able to simply give some labels to any Python object and save it to a database file; then get back a set of objects by specifying portion of their labels.** "
     ]
    },
    {
     "cell_type": "markdown",
     "metadata": {},
     "source": [
      "First, get a copy of the latest yserial module **y_serial_dev.py**, e.g.\n",
      "\n",
      "     $ curl -kLO  https://git.io/y_serial_dev.py\n",
      "\n",
      "and symlink to where your Python can find it. Or just simply clone/download the repo.  "
     ]
    },
    {
     "cell_type": "code",
     "collapsed": false,
     "input": [
      "#  This is the Python module we mentioned...\n",
      "import y_serial_dev as y_serial\n",
      "#  There are no other dependencies!\n",
      "#  It relies only on standard Python batteries."
     ],
     "language": "python",
     "metadata": {},
     "outputs": [],
     "prompt_number": 1
    },
    {
     "cell_type": "markdown",
     "metadata": {},
     "source": [
      "Create an instance called demo which is associated with a regular file:"
     ]
    },
    {
     "cell_type": "code",
     "collapsed": false,
     "input": [
      "demo = y_serial.Main( 'tmp-agency-HOWTO.sqlite' ) \n",
      "#                     ^include suitable path if necessary.\n",
      "#  Yes, our back-end database is SQLite.\n",
      "#  Linux only: use /dev/shm directory for yserial in-memory."
     ],
     "language": "python",
     "metadata": {},
     "outputs": [],
     "prompt_number": 2
    },
    {
     "cell_type": "markdown",
     "metadata": {},
     "source": [
      "Now we assume some computing activity takes place, producing an object:"
     ]
    },
    {
     "cell_type": "code",
     "collapsed": false,
     "input": [
      "obj = 911"
     ],
     "language": "python",
     "metadata": {},
     "outputs": [],
     "prompt_number": 3
    },
    {
     "cell_type": "markdown",
     "metadata": {},
     "source": [
      "Insert that object into our database:"
     ]
    },
    {
     "cell_type": "code",
     "collapsed": false,
     "input": [
      "demo.insert( obj, \"#plan agent007 #london\", 'goldfinger' ) \n",
      "#                 ^notes                    ^table_name"
     ],
     "language": "python",
     "metadata": {},
     "outputs": [],
     "prompt_number": 4
    },
    {
     "cell_type": "markdown",
     "metadata": {},
     "source": [
      "Each object is assigned a key, and that is the significance of the strings in the insert operation. Think of the key conceptually as:\n",
      "\n",
      "     filename + table_name + primary_key + timestamp + notes\n",
      "     \n",
      "The primary_key and timestamp are automatically provided for you to guarantee uniqueness of your key.\n",
      "\n",
      "We label each object with \"notes\" which can be arbitrarily long text (or UTF-8), containing keywords or tags, but excluding commas. Within that file we specify a \"table\" (merely an organizational subsector). You can have many tables in a given file.\n",
      "\n",
      "*Some time later (even after logging out), perhaps in another script,* we will want to select some object:"
     ]
    },
    {
     "cell_type": "code",
     "collapsed": false,
     "input": [
      "eg1 = demo.select( \"agent00[1-7],#plan\", 'goldfinger' ) \n",
      "#                  ^Search values are space-sensitive \n",
      "#                                 and comma separated; \n",
      "#                   arbitrarily many permitted in string."
     ],
     "language": "python",
     "metadata": {},
     "outputs": [],
     "prompt_number": 5
    },
    {
     "cell_type": "markdown",
     "metadata": {},
     "source": [
      "Let's reveal the *latest* goldfinger plan which involves any one of the top seven agents anywhere in the world including London."
     ]
    },
    {
     "cell_type": "code",
     "collapsed": false,
     "input": [
      "eg1"
     ],
     "language": "python",
     "metadata": {},
     "outputs": [
      {
       "metadata": {},
       "output_type": "pyout",
       "prompt_number": 6,
       "text": [
        "911"
       ]
      }
     ],
     "prompt_number": 6
    },
    {
     "cell_type": "markdown",
     "metadata": {},
     "source": [
      "That's it... **only a few lines of Python code to store compressed serialized objects in a database, and to selectively retrieve them** (with optional regular expression, and remarkably, *without writing any SQL commands*). DEAD SIMPLE -- *with only one module imported*. \n",
      "\n",
      "Hopefully you see how widely this is applicable... it's has been very reliable on millions of processes since 2009."
     ]
    },
    {
     "cell_type": "markdown",
     "metadata": {},
     "source": [
      "## More about the NoSQL approach\n",
      "\n",
      "The notes effectively label the objects placed into the database. We can then later query the database, for example, by *regex* (regular expression) searching on notes, and placing the qualified objects in a dictionary. The keys of this dictionary correspond to the unique primary keys used in the database. If necessary we can access the timestamp for each object. \n",
      "\n",
      "We can thus use Python code to process the contents of the qualified dictionary, in effect, a data subset. If the objects in that dictionary are themselves dictionaries we are essentially dealing with *schema-less data*, i.e. NoSQL in the most general sense."
     ]
    },
    {
     "cell_type": "code",
     "collapsed": false,
     "input": [
      "#  Let's continue our example by adding an object for agent006. \n",
      "obj = 411 \n",
      "demo.insert( obj, \"agent006 #paris #plan\", 'goldfinger' )"
     ],
     "language": "python",
     "metadata": {},
     "outputs": [],
     "prompt_number": 7
    },
    {
     "cell_type": "markdown",
     "metadata": {},
     "source": [
      "We now can sample a dictionary of objects which matches our search values."
     ]
    },
    {
     "cell_type": "code",
     "collapsed": false,
     "input": [
      "eg2 = demo.selectdic( \"agent00[1-7],#plan\", 'goldfinger' )"
     ],
     "language": "python",
     "metadata": {},
     "outputs": [],
     "prompt_number": 8
    },
    {
     "cell_type": "code",
     "collapsed": false,
     "input": [
      "eg2"
     ],
     "language": "python",
     "metadata": {},
     "outputs": [
      {
       "metadata": {},
       "output_type": "pyout",
       "prompt_number": 9,
       "text": [
        "{1: [1430006417, u'#plan agent007 #london', 911],\n",
        " 2: [1430006418, u'agent006 #paris #plan', 411]}"
       ]
      }
     ],
     "prompt_number": 9
    },
    {
     "cell_type": "markdown",
     "metadata": {},
     "source": [
      "Notice that we used a different method called *selectdic* which produces a dictionary whose keys are the unique primary keys (\"kid\") automatically assigned in the database. Inside the list are the (unix) epoch timestamp, followed by (unicode) notes, then object. This means that we can *work with flexible data subsets using Python code rather than cumbersome SQL.* "
     ]
    },
    {
     "cell_type": "markdown",
     "metadata": {},
     "source": [
      "## Database view \n",
      "\n",
      "Instead of using comma-separated values, as in our example so far, we could have crafted a custom subquery and used a method called *dicsub*. \n",
      "\n",
      "Or we could just skip subquery altogether. Here we pick out the most recent n-th entry:"
     ]
    },
    {
     "cell_type": "code",
     "collapsed": false,
     "input": [
      "eg3 = demo.select( 0, 'goldfinger' )\n",
      "eg3"
     ],
     "language": "python",
     "metadata": {},
     "outputs": [
      {
       "metadata": {},
       "output_type": "pyout",
       "prompt_number": 10,
       "text": [
        "411"
       ]
      }
     ],
     "prompt_number": 10
    },
    {
     "cell_type": "markdown",
     "metadata": {},
     "source": [
      "The method called \"*view*\" will verbosely pretty-print deeply nested structures:"
     ]
    },
    {
     "cell_type": "code",
     "collapsed": false,
     "input": [
      "demo.view( 5, 'goldfinger' ) \n",
      "#          ^last m inserts (or use search string argument)"
     ],
     "language": "python",
     "metadata": {},
     "outputs": [
      {
       "output_type": "stream",
       "stream": "stdout",
       "text": [
        "\n",
        " ::  View in reverse chronological order :: \n",
        " :: ----------------------------------------\n",
        " ::   kid:  2   (1430006418 secs)\n",
        " :: notes:  agent006 #paris #plan\n",
        "411\n",
        " :: ----------------------------------------\n",
        " ::   kid:  1   (1430006417 secs)\n",
        " :: notes:  #plan agent007 #london\n",
        "911\n",
        " :: ----------------------------------------\n",
        " :: Display: MATCHED  2 objects.\n"
       ]
      },
      {
       "metadata": {},
       "output_type": "pyout",
       "prompt_number": 11,
       "text": [
        "''"
       ]
      }
     ],
     "prompt_number": 11
    },
    {
     "cell_type": "markdown",
     "metadata": {},
     "source": [
      "y_serial can also act like a persistent *QUEUE*. Whatever that is retrieved can be deleted thereafter by appending \"POP=True\" at the end of any applicable method:"
     ]
    },
    {
     "cell_type": "code",
     "collapsed": false,
     "input": [
      "eg4 = demo.select( 0, 'goldfinger', POP=True )"
     ],
     "language": "python",
     "metadata": {},
     "outputs": [],
     "prompt_number": 12
    },
    {
     "cell_type": "code",
     "collapsed": false,
     "input": [
      "eg4\n",
      "#   We can call it, but it's gone from the database."
     ],
     "language": "python",
     "metadata": {},
     "outputs": [
      {
       "metadata": {},
       "output_type": "pyout",
       "prompt_number": 13,
       "text": [
        "411"
       ]
      }
     ],
     "prompt_number": 13
    },
    {
     "cell_type": "code",
     "collapsed": false,
     "input": [
      "#  Double-check that deletion:\n",
      "demo.view( 5, 'goldfinger' )"
     ],
     "language": "python",
     "metadata": {},
     "outputs": [
      {
       "output_type": "stream",
       "stream": "stdout",
       "text": [
        "\n",
        " ::  View in reverse chronological order :: \n",
        " :: ----------------------------------------\n",
        " ::   kid:  1   (1430006417 secs)\n",
        " :: notes:  #plan agent007 #london\n",
        "911\n",
        " :: ----------------------------------------\n",
        " :: Display: MATCHED  1 objects.\n"
       ]
      },
      {
       "metadata": {},
       "output_type": "pyout",
       "prompt_number": 14,
       "text": [
        "''"
       ]
      }
     ],
     "prompt_number": 14
    },
    {
     "cell_type": "markdown",
     "metadata": {},
     "source": [
      "That illustrates LIFO, last in / first out. But of course, we also have FIFO, first in / first out -- see the *fifo* method in the source code.\n",
      "\n",
      " Object(s) can certainly be deleted directly:"
     ]
    },
    {
     "cell_type": "code",
     "collapsed": false,
     "input": [
      "demo.delete( \"agent00?\", 'goldfinger' ) \n",
      "#                    ^where notes mention any single digit agent."
     ],
     "language": "python",
     "metadata": {},
     "outputs": [],
     "prompt_number": 15
    },
    {
     "cell_type": "code",
     "collapsed": false,
     "input": [
      "#  We should expect no remaing agents in goldfinger:\n",
      "demo.view( 5, 'goldfinger' )"
     ],
     "language": "python",
     "metadata": {},
     "outputs": [
      {
       "output_type": "stream",
       "stream": "stdout",
       "text": [
        "\n",
        " ::  View in reverse chronological order :: \n",
        " :: ----------------------------------------\n",
        " !!  Display: NOTHING matched subquery !!\n"
       ]
      },
      {
       "metadata": {},
       "output_type": "pyout",
       "prompt_number": 16,
       "text": [
        "''"
       ]
      }
     ],
     "prompt_number": 16
    },
    {
     "cell_type": "markdown",
     "metadata": {},
     "source": [
      "## Cleanup\n",
      "\n",
      "To get rid of stale data we could freshen a table and vacuum the entire database via *clean*:"
     ]
    },
    {
     "cell_type": "code",
     "collapsed": false,
     "input": [
      "demo.clean( 365.5 , 'goldfinger' ) \n",
      "#           ^retain one year-old or less prior to last insert.\n",
      "#            Fractional days permitted as argument."
     ],
     "language": "python",
     "metadata": {},
     "outputs": [
      {
       "metadata": {},
       "output_type": "pyout",
       "prompt_number": 17,
       "text": [
        "''"
       ]
      }
     ],
     "prompt_number": 17
    },
    {
     "cell_type": "markdown",
     "metadata": {},
     "source": [
      "To nuke the entire table:"
     ]
    },
    {
     "cell_type": "code",
     "collapsed": false,
     "input": [
      "demo.droptable( 'goldfinger' )"
     ],
     "language": "python",
     "metadata": {},
     "outputs": [
      {
       "metadata": {},
       "output_type": "pyout",
       "prompt_number": 18,
       "text": [
        "' :: droptable: done.'"
       ]
      }
     ],
     "prompt_number": 18
    },
    {
     "cell_type": "markdown",
     "metadata": {},
     "source": [
      "## Other useful methods \n",
      "\n",
      "- insert any external file (via *infile*). This is handy for working with thousands of image files. \n",
      "\n",
      "- insert anything on the web by URL (via *inweb*). \n",
      "\n",
      "- insert in batches by generator (via *ingenerator*). This can be used to rapidly store a series of computationally intense results for quick retrieval at a later time. \n",
      "\n",
      "***The source code contains full details within understandable comments. Please RTM \"read the module\" for tips on usage.***\n",
      "\n"
     ]
    },
    {
     "cell_type": "markdown",
     "metadata": {},
     "source": [
      "# SUMMARY\n",
      "\n",
      "Briefly stated: **y_serial = serialization + persistance. In a few lines of code,\n",
      "compress and annotate Python objects into SQLite; then later\n",
      "retrieve them chronologically by keywords without any SQL. Highly\n",
      "useful NoSQL \"standard\" module for a database to store schema-less\n",
      "data.**"
     ]
    },
    {
     "cell_type": "heading",
     "level": 1,
     "metadata": {},
     "source": [
      "Appendix 1: What's in beta?"
     ]
    },
    {
     "cell_type": "markdown",
     "metadata": {},
     "source": [
      "For concurrency we can easily code for a farm of databases using the module's copy functions. In general, your program can have multiple interacting instances which control distinct database files. \n",
      "\n",
      "In heavy concurrent situations (say, hundreds of near-simultaneous writes per second), SQLite has a problem because of the way it locks the database. We can alleviate the problem by diffusing such operations across many databases (called \"barns\" via class *Farm*), and then writing back to the target database as a batch (which is far more efficient than single writes) over time. The harvest time to reap the batch is stochastic (see the \"plant\" method). That introduces some latency in accessing the newest objects -- the cost for scaling up concurrency.]"
     ]
    },
    {
     "cell_type": "heading",
     "level": 2,
     "metadata": {},
     "source": [
      "Appendix 2: Anthropomorphic characterization of NoSQL"
     ]
    },
    {
     "cell_type": "markdown",
     "metadata": {},
     "source": [
      "\u201cYou see unlike RDBMS [e.g. SQL databases], I don\u2019t require that data be clearly split into tables, columns and rows. I can work with data the way it is most naturally represented: as a tree of individual data fields, lists, arrays, dictionaries, etc. Also I do not require that you always clearly define each and every possible schema element before being able to store data corresponding to the schema. I can happily accept a schema dynamically or even work without a schema. Some of my early forms were based on key value pairs stored as B-Trees (e.g. Berkeley DB). Over the years people have figured out ways to represent the data as a set of decomposed document elements, store data spread across a cluster, replicate it for better availability and fault tolerance, and even perform post storage processing tasks using map-reduce sequences. But really what separates me from my cousin and other storage systems is that **I don\u2019t make demands on the data \u2013 I take it in its naturally found form and then store it, replicate it, slice it, dice it and glean information out of it. And therein lies my true identity \u2013 I will work with data the way the data is best represented with all its arbitrary inconsistencies and inabilities to always clearly specify a constraining schema.**\u201d \n",
      "\n",
      "- Dhananjay Nene, quote from [Stop calling me NoSQL](http://blog.dhananjaynene.com/2009/10/stop-calling-me-nosql/)"
     ]
    },
    {
     "cell_type": "heading",
     "level": 1,
     "metadata": {},
     "source": [
      "Appendix 3: Testing y_serial"
     ]
    },
    {
     "cell_type": "code",
     "collapsed": false,
     "input": [
      "#  This interactive notebook itself is a series of tests, \n",
      "#  but the module contains its own tests.\n",
      "#  So after modifying the code, we simply run:\n",
      "y_serial.tester()"
     ],
     "language": "python",
     "metadata": {},
     "outputs": [
      {
       "output_type": "stream",
       "stream": "stdout",
       "text": [
        "Starting tester()...    for debugging y_serial module.\n",
        "[DEBUG switch is currently False.]\n",
        "[Note: specify default database via db0 in class Base.]\n",
        "Creating instance using database...\n",
        "  using database: /tmp/y_serial-db0-tmp.sqlite\n",
        "   created table: ytest\n",
        "INSERTING:  5 objects...\n",
        "     Checking epoch second of last insert: "
       ]
      },
      {
       "output_type": "stream",
       "stream": "stdout",
       "text": [
        " 1430006420\n",
        "     Checking local date/time of last insert:  2015-04-25 17:00:20\n",
        "     Checking last kid PRIMARY KEY:  5\n",
        "     (Inserted and selected objects should be equivalent.)\n",
        "     Trying omaxsub ...\n",
        "passed test: subquery."
       ]
      },
      {
       "output_type": "stream",
       "stream": "stdout",
       "text": [
        "\n",
        "     Trying omaxlast via .select ...\n",
        "passed test: seek key ID.\n",
        "     Trying omaxcomma ...\n",
        "passed test: comma and notesglob.\n",
        "     Eyeball random string with queue POP=True:\n",
        "I aspire to be stringy."
       ]
      },
      {
       "output_type": "stream",
       "stream": "stdout",
       "text": [
        "\n",
        "\n",
        "passed test: POP deleted row as expected.\n",
        "     Current last kid PRIMARY KEY:  4\n",
        "passed test: getkid.\n",
        "     Trying .select with default POP=False ...\n",
        "passed test: comma2list with wild=True.\n",
        "     (Note: infile v0.50 has passed inspection.)\n",
        "     (Note: inweb  v0.50 has passed inspection.)\n",
        "----------------------------------------------------------------\n",
        "DELETING rows older than 30 minutes from ytest.\n",
        "DROPPING table ytest2."
       ]
      },
      {
       "output_type": "stream",
       "stream": "stdout",
       "text": [
        "\n",
        "COPYING table ytest to ytest2."
       ]
      },
      {
       "output_type": "stream",
       "stream": "stdout",
       "text": [
        "\n",
        "     Assert copy and fifo methods:"
       ]
      },
      {
       "output_type": "stream",
       "stream": "stdout",
       "text": [
        " PASSED, objects equivalent.\n",
        "     (ytest and ytest2 should be empty due to iterated fifo.)\n",
        "VACUUMing the entire database.\n",
        "----------------------------------------------------------------"
       ]
      },
      {
       "output_type": "stream",
       "stream": "stdout",
       "text": [
        "\n",
        " *** tester    compiled: PASSED -- verify results above. ***\n"
       ]
      }
     ],
     "prompt_number": 19
    }
   ],
   "metadata": {}
  }
 ]
}